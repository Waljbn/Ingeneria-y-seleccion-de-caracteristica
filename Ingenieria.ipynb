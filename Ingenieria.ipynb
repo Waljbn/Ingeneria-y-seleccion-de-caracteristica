{
 "cells": [
  {
   "cell_type": "code",
   "execution_count": 1,
   "id": "01dc2ea5-1acd-447a-ba44-de01f71e4f80",
   "metadata": {},
   "outputs": [],
   "source": [
    "import pandas as pd\n",
    "import numpy as np\n",
    "from sklearn.model_selection import train_test_split\n",
    "from sklearn.preprocessing import MinMaxScaler\n",
    "from sklearn.linear_model import LogisticRegression\n",
    "from sklearn.metrics import accuracy_score"
   ]
  },
  {
   "cell_type": "code",
   "execution_count": 2,
   "id": "6edcc88d-a323-4d2b-806b-b8578c71b08d",
   "metadata": {},
   "outputs": [
    {
     "data": {
      "text/html": [
       "<div>\n",
       "<style scoped>\n",
       "    .dataframe tbody tr th:only-of-type {\n",
       "        vertical-align: middle;\n",
       "    }\n",
       "\n",
       "    .dataframe tbody tr th {\n",
       "        vertical-align: top;\n",
       "    }\n",
       "\n",
       "    .dataframe thead th {\n",
       "        text-align: right;\n",
       "    }\n",
       "</style>\n",
       "<table border=\"1\" class=\"dataframe\">\n",
       "  <thead>\n",
       "    <tr style=\"text-align: right;\">\n",
       "      <th></th>\n",
       "      <th>duracion</th>\n",
       "      <th>paginas</th>\n",
       "      <th>acciones</th>\n",
       "      <th>valor</th>\n",
       "      <th>clase</th>\n",
       "    </tr>\n",
       "  </thead>\n",
       "  <tbody>\n",
       "    <tr>\n",
       "      <th>0</th>\n",
       "      <td>7.0</td>\n",
       "      <td>2</td>\n",
       "      <td>4</td>\n",
       "      <td>8</td>\n",
       "      <td>2</td>\n",
       "    </tr>\n",
       "    <tr>\n",
       "      <th>1</th>\n",
       "      <td>21.0</td>\n",
       "      <td>2</td>\n",
       "      <td>6</td>\n",
       "      <td>6</td>\n",
       "      <td>2</td>\n",
       "    </tr>\n",
       "    <tr>\n",
       "      <th>2</th>\n",
       "      <td>57.0</td>\n",
       "      <td>2</td>\n",
       "      <td>4</td>\n",
       "      <td>4</td>\n",
       "      <td>2</td>\n",
       "    </tr>\n",
       "    <tr>\n",
       "      <th>3</th>\n",
       "      <td>101.0</td>\n",
       "      <td>3</td>\n",
       "      <td>6</td>\n",
       "      <td>12</td>\n",
       "      <td>2</td>\n",
       "    </tr>\n",
       "    <tr>\n",
       "      <th>4</th>\n",
       "      <td>109.0</td>\n",
       "      <td>2</td>\n",
       "      <td>6</td>\n",
       "      <td>12</td>\n",
       "      <td>2</td>\n",
       "    </tr>\n",
       "  </tbody>\n",
       "</table>\n",
       "</div>"
      ],
      "text/plain": [
       "   duracion  paginas  acciones  valor  clase\n",
       "0       7.0        2         4      8      2\n",
       "1      21.0        2         6      6      2\n",
       "2      57.0        2         4      4      2\n",
       "3     101.0        3         6     12      2\n",
       "4     109.0        2         6     12      2"
      ]
     },
     "execution_count": 2,
     "metadata": {},
     "output_type": "execute_result"
    }
   ],
   "source": [
    "# Importar datos\n",
    "data = pd.read_csv(\"usuarios_win_mac_lin.csv\")\n",
    "data.head()"
   ]
  },
  {
   "cell_type": "code",
   "execution_count": 83,
   "id": "b6e2d29d-492b-46fd-8fbf-8ba072cfc5fc",
   "metadata": {},
   "outputs": [
    {
     "name": "stdout",
     "output_type": "stream",
     "text": [
      "   duracion  paginas  acciones  valor  clase\n",
      "0       7.0        2         4      8      2\n",
      "1      21.0        2         6      6      2\n",
      "2      57.0        2         4      4      2\n",
      "3     101.0        3         6     12      2\n",
      "4     109.0        2         6     12      2\n",
      "         duracion     paginas    acciones       valor       clase\n",
      "count  170.000000  170.000000  170.000000  170.000000  170.000000\n",
      "mean   111.075729    2.041176    8.723529   32.676471    0.752941\n",
      "std    202.453200    1.500911    9.136054   44.751993    0.841327\n",
      "min      1.000000    1.000000    1.000000    1.000000    0.000000\n",
      "25%     11.000000    1.000000    3.000000    8.000000    0.000000\n",
      "50%     13.000000    2.000000    6.000000   20.000000    0.000000\n",
      "75%    108.000000    2.000000   10.000000   36.000000    2.000000\n",
      "max    898.000000    9.000000   63.000000  378.000000    2.000000\n",
      "duracion    0\n",
      "paginas     0\n",
      "acciones    0\n",
      "valor       0\n",
      "clase       0\n",
      "dtype: int64\n",
      "0    86\n",
      "2    44\n",
      "1    40\n",
      "Name: clase, dtype: int64\n"
     ]
    }
   ],
   "source": [
    "print(data.head()) # primeros registros\n",
    "print(data.describe()) # estadísticas básicas\n",
    "print(data.isnull().sum()) # verificación de valores nulos\n",
    "print(data['clase'].value_counts()) # conteo de clases"
   ]
  },
  {
   "cell_type": "code",
   "execution_count": 84,
   "id": "75ebaa4a-a592-4d93-a301-ea3a1e7ec4e7",
   "metadata": {},
   "outputs": [],
   "source": [
    "scaler = MinMaxScaler()\n",
    "data_scaled = scaler.fit_transform(data.iloc[:, :-1])\n",
    "data_scaled = pd.DataFrame(data_scaled, columns=data.columns[:-1])\n",
    "data_scaled['clase'] = data['clase']"
   ]
  },
  {
   "cell_type": "code",
   "execution_count": 85,
   "id": "3c58abc5-8627-423e-95a7-e82035b218e3",
   "metadata": {},
   "outputs": [],
   "source": [
    "data_scaled['dur_pag'] = data_scaled['duracion'] / data_scaled['paginas']\n",
    "data_scaled['val_acc'] = data_scaled['valor'] / data_scaled['acciones']"
   ]
  },
  {
   "cell_type": "code",
   "execution_count": 86,
   "id": "2c205d29-b5f5-4fea-8028-dd8480b7ee1d",
   "metadata": {},
   "outputs": [],
   "source": [
    "data_scaled.drop(['duracion', 'paginas', 'acciones', 'valor'], axis=1, inplace=True)"
   ]
  },
  {
   "cell_type": "code",
   "execution_count": 94,
   "id": "5daf0ef6-f1c5-4611-957d-c718b1949bef",
   "metadata": {},
   "outputs": [],
   "source": [
    "data_scaled = data_scaled[np.isfinite(data_scaled).all(1)]\n",
    "X = data_scaled.drop('clase', axis=1)\n",
    "y = data_scaled['clase']\n",
    "\n",
    "X_train, X_test, y_train, y_test = train_test_split(X, y, test_size=0.2, random_state=100)"
   ]
  },
  {
   "cell_type": "code",
   "execution_count": 95,
   "id": "05e580f6-953b-410b-bab3-c59d696aa7ba",
   "metadata": {},
   "outputs": [
    {
     "data": {
      "text/plain": [
       "LogisticRegression(random_state=100)"
      ]
     },
     "execution_count": 95,
     "metadata": {},
     "output_type": "execute_result"
    }
   ],
   "source": [
    "clf = LogisticRegression(random_state=100)\n",
    "clf.fit(X_train, y_train)"
   ]
  },
  {
   "cell_type": "code",
   "execution_count": 96,
   "id": "1e9b9b5c-90fd-4f91-b487-0575acbc8db5",
   "metadata": {},
   "outputs": [
    {
     "name": "stdout",
     "output_type": "stream",
     "text": [
      "Precisión del modelo: 0.5\n"
     ]
    }
   ],
   "source": [
    "y_pred = clf.predict(X_test)\n",
    "accuracy = accuracy_score(y_test, y_pred)\n",
    "print(\"Precisión del modelo:\", accuracy)\n"
   ]
  },
  {
   "cell_type": "code",
   "execution_count": null,
   "id": "5360194b-e665-441d-94a0-e1801764521b",
   "metadata": {},
   "outputs": [],
   "source": []
  }
 ],
 "metadata": {
  "kernelspec": {
   "display_name": "Python 3 (ipykernel)",
   "language": "python",
   "name": "python3"
  },
  "language_info": {
   "codemirror_mode": {
    "name": "ipython",
    "version": 3
   },
   "file_extension": ".py",
   "mimetype": "text/x-python",
   "name": "python",
   "nbconvert_exporter": "python",
   "pygments_lexer": "ipython3",
   "version": "3.9.13"
  }
 },
 "nbformat": 4,
 "nbformat_minor": 5
}
